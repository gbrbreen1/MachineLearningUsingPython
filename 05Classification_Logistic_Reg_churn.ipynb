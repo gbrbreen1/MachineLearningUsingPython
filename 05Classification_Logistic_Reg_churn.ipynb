{
  "nbformat": 4,
  "nbformat_minor": 0,
  "metadata": {
    "kernelspec": {
      "display_name": "Python 3",
      "language": "python",
      "name": "python3"
    },
    "language_info": {
      "codemirror_mode": {
        "name": "ipython",
        "version": 3
      },
      "file_extension": ".py",
      "mimetype": "text/x-python",
      "name": "python",
      "nbconvert_exporter": "python",
      "pygments_lexer": "ipython3",
      "version": "3.6.5"
    },
    "colab": {
      "name": "05Classification-Logistic-Reg-churn.ipynb",
      "provenance": [],
      "collapsed_sections": []
    }
  },
  "cells": [
    {
      "cell_type": "markdown",
      "metadata": {
        "button": false,
        "new_sheet": false,
        "run_control": {
          "read_only": false
        },
        "id": "2mSCj3YpHGk-"
      },
      "source": [
        "<h1 align=center><font size = 5> Classification: Logistic Regression with Python</font></h1>"
      ]
    },
    {
      "cell_type": "markdown",
      "metadata": {
        "id": "G4hJTO7BHGlC"
      },
      "source": [
        "### Customer churn with Logistic Regression\n",
        "A telecommunications company is concerned about the number of customers leaving their land-line business for cable competitors. They need to understand who is leaving. Imagine that you’re an analyst at this company and you have to find out who is leaving and why."
      ]
    },
    {
      "cell_type": "markdown",
      "metadata": {
        "button": false,
        "new_sheet": false,
        "run_control": {
          "read_only": false
        },
        "id": "cx0Apn3rHGlE"
      },
      "source": [
        "Lets first import required libraries:"
      ]
    },
    {
      "cell_type": "code",
      "metadata": {
        "button": false,
        "new_sheet": false,
        "run_control": {
          "read_only": false
        },
        "id": "JiDd43fDHGlG"
      },
      "source": [
        "import pandas as pd\n",
        "import pylab as pl\n",
        "import numpy as np\n",
        "import scipy.optimize as opt\n",
        "from sklearn import preprocessing\n",
        "%matplotlib inline \n",
        "import matplotlib.pyplot as plt"
      ],
      "execution_count": null,
      "outputs": []
    },
    {
      "cell_type": "markdown",
      "metadata": {
        "button": false,
        "new_sheet": false,
        "run_control": {
          "read_only": false
        },
        "id": "qhrqGutkHGlI"
      },
      "source": [
        "### About dataset\n",
        "We’ll use a telecommunications data for predicting customer churn. This is a historical customer data where each row represents one customer. The data is relatively easy to understand, and you may uncover insights you can use immediately. Typically it’s less expensive to keep customers than acquire new ones, so the focus of this analysis is to predict the customers who will stay with the company. \n",
        "\n",
        "\n",
        "This data set provides info to help you predict behavior to retain customers. You can analyze all relevant customer data and develop focused customer retention programs.\n",
        "\n",
        "\n",
        "\n",
        "The data set includes information about:\n",
        "\n",
        "- **Customers who left within the last month** – the column is called Churn\n",
        "- Services that each customer has signed up for – phone, multiple lines, internet, online security, online backup, device protection, tech support, and streaming TV and movies\n",
        "- Customer account information – how long they’ve been a customer, contract, payment method, paperless billing, monthly charges, and total charges\n",
        "- Demographic info about customers – gender, age range, and if they have partners and dependents\n"
      ]
    },
    {
      "cell_type": "markdown",
      "metadata": {
        "button": false,
        "new_sheet": false,
        "run_control": {
          "read_only": false
        },
        "id": "dsvUcKxgHGlP"
      },
      "source": [
        "### Load Data From CSV File  "
      ]
    },
    {
      "cell_type": "code",
      "metadata": {
        "button": false,
        "new_sheet": false,
        "run_control": {
          "read_only": false
        },
        "colab": {
          "base_uri": "https://localhost:8080/",
          "height": 223
        },
        "id": "cGJSRIL5HGlQ",
        "outputId": "88f78e51-3525-46b4-ded4-a12de2b27784"
      },
      "source": [
        "churn_df = pd.read_csv(\"https://raw.githubusercontent.com/gbrbreen1/MachineLearningUsingPython/main/ChurnData.csv\")\n",
        "churn_df.head()"
      ],
      "execution_count": null,
      "outputs": [
        {
          "output_type": "execute_result",
          "data": {
            "text/html": [
              "<div>\n",
              "<style scoped>\n",
              "    .dataframe tbody tr th:only-of-type {\n",
              "        vertical-align: middle;\n",
              "    }\n",
              "\n",
              "    .dataframe tbody tr th {\n",
              "        vertical-align: top;\n",
              "    }\n",
              "\n",
              "    .dataframe thead th {\n",
              "        text-align: right;\n",
              "    }\n",
              "</style>\n",
              "<table border=\"1\" class=\"dataframe\">\n",
              "  <thead>\n",
              "    <tr style=\"text-align: right;\">\n",
              "      <th></th>\n",
              "      <th>tenure</th>\n",
              "      <th>age</th>\n",
              "      <th>address</th>\n",
              "      <th>income</th>\n",
              "      <th>ed</th>\n",
              "      <th>employ</th>\n",
              "      <th>equip</th>\n",
              "      <th>callcard</th>\n",
              "      <th>wireless</th>\n",
              "      <th>longmon</th>\n",
              "      <th>tollmon</th>\n",
              "      <th>equipmon</th>\n",
              "      <th>cardmon</th>\n",
              "      <th>wiremon</th>\n",
              "      <th>longten</th>\n",
              "      <th>tollten</th>\n",
              "      <th>cardten</th>\n",
              "      <th>voice</th>\n",
              "      <th>pager</th>\n",
              "      <th>internet</th>\n",
              "      <th>callwait</th>\n",
              "      <th>confer</th>\n",
              "      <th>ebill</th>\n",
              "      <th>loglong</th>\n",
              "      <th>logtoll</th>\n",
              "      <th>lninc</th>\n",
              "      <th>custcat</th>\n",
              "      <th>churn</th>\n",
              "    </tr>\n",
              "  </thead>\n",
              "  <tbody>\n",
              "    <tr>\n",
              "      <th>0</th>\n",
              "      <td>11.0</td>\n",
              "      <td>33.0</td>\n",
              "      <td>7.0</td>\n",
              "      <td>136.0</td>\n",
              "      <td>5.0</td>\n",
              "      <td>5.0</td>\n",
              "      <td>0.0</td>\n",
              "      <td>1.0</td>\n",
              "      <td>1.0</td>\n",
              "      <td>4.40</td>\n",
              "      <td>20.75</td>\n",
              "      <td>0.0</td>\n",
              "      <td>15.25</td>\n",
              "      <td>35.7</td>\n",
              "      <td>42.00</td>\n",
              "      <td>211.45</td>\n",
              "      <td>125.0</td>\n",
              "      <td>1.0</td>\n",
              "      <td>1.0</td>\n",
              "      <td>0.0</td>\n",
              "      <td>1.0</td>\n",
              "      <td>1.0</td>\n",
              "      <td>0.0</td>\n",
              "      <td>1.482</td>\n",
              "      <td>3.033</td>\n",
              "      <td>4.913</td>\n",
              "      <td>4.0</td>\n",
              "      <td>1.0</td>\n",
              "    </tr>\n",
              "    <tr>\n",
              "      <th>1</th>\n",
              "      <td>33.0</td>\n",
              "      <td>33.0</td>\n",
              "      <td>12.0</td>\n",
              "      <td>33.0</td>\n",
              "      <td>2.0</td>\n",
              "      <td>0.0</td>\n",
              "      <td>0.0</td>\n",
              "      <td>0.0</td>\n",
              "      <td>0.0</td>\n",
              "      <td>9.45</td>\n",
              "      <td>0.00</td>\n",
              "      <td>0.0</td>\n",
              "      <td>0.00</td>\n",
              "      <td>0.0</td>\n",
              "      <td>288.80</td>\n",
              "      <td>0.00</td>\n",
              "      <td>0.0</td>\n",
              "      <td>0.0</td>\n",
              "      <td>0.0</td>\n",
              "      <td>0.0</td>\n",
              "      <td>0.0</td>\n",
              "      <td>0.0</td>\n",
              "      <td>0.0</td>\n",
              "      <td>2.246</td>\n",
              "      <td>3.240</td>\n",
              "      <td>3.497</td>\n",
              "      <td>1.0</td>\n",
              "      <td>1.0</td>\n",
              "    </tr>\n",
              "    <tr>\n",
              "      <th>2</th>\n",
              "      <td>23.0</td>\n",
              "      <td>30.0</td>\n",
              "      <td>9.0</td>\n",
              "      <td>30.0</td>\n",
              "      <td>1.0</td>\n",
              "      <td>2.0</td>\n",
              "      <td>0.0</td>\n",
              "      <td>0.0</td>\n",
              "      <td>0.0</td>\n",
              "      <td>6.30</td>\n",
              "      <td>0.00</td>\n",
              "      <td>0.0</td>\n",
              "      <td>0.00</td>\n",
              "      <td>0.0</td>\n",
              "      <td>157.05</td>\n",
              "      <td>0.00</td>\n",
              "      <td>0.0</td>\n",
              "      <td>0.0</td>\n",
              "      <td>0.0</td>\n",
              "      <td>0.0</td>\n",
              "      <td>0.0</td>\n",
              "      <td>1.0</td>\n",
              "      <td>0.0</td>\n",
              "      <td>1.841</td>\n",
              "      <td>3.240</td>\n",
              "      <td>3.401</td>\n",
              "      <td>3.0</td>\n",
              "      <td>0.0</td>\n",
              "    </tr>\n",
              "    <tr>\n",
              "      <th>3</th>\n",
              "      <td>38.0</td>\n",
              "      <td>35.0</td>\n",
              "      <td>5.0</td>\n",
              "      <td>76.0</td>\n",
              "      <td>2.0</td>\n",
              "      <td>10.0</td>\n",
              "      <td>1.0</td>\n",
              "      <td>1.0</td>\n",
              "      <td>1.0</td>\n",
              "      <td>6.05</td>\n",
              "      <td>45.00</td>\n",
              "      <td>50.1</td>\n",
              "      <td>23.25</td>\n",
              "      <td>64.9</td>\n",
              "      <td>239.55</td>\n",
              "      <td>1873.05</td>\n",
              "      <td>880.0</td>\n",
              "      <td>1.0</td>\n",
              "      <td>1.0</td>\n",
              "      <td>1.0</td>\n",
              "      <td>1.0</td>\n",
              "      <td>1.0</td>\n",
              "      <td>1.0</td>\n",
              "      <td>1.800</td>\n",
              "      <td>3.807</td>\n",
              "      <td>4.331</td>\n",
              "      <td>4.0</td>\n",
              "      <td>0.0</td>\n",
              "    </tr>\n",
              "    <tr>\n",
              "      <th>4</th>\n",
              "      <td>7.0</td>\n",
              "      <td>35.0</td>\n",
              "      <td>14.0</td>\n",
              "      <td>80.0</td>\n",
              "      <td>2.0</td>\n",
              "      <td>15.0</td>\n",
              "      <td>0.0</td>\n",
              "      <td>1.0</td>\n",
              "      <td>0.0</td>\n",
              "      <td>7.10</td>\n",
              "      <td>22.00</td>\n",
              "      <td>0.0</td>\n",
              "      <td>23.75</td>\n",
              "      <td>0.0</td>\n",
              "      <td>47.45</td>\n",
              "      <td>166.10</td>\n",
              "      <td>145.0</td>\n",
              "      <td>1.0</td>\n",
              "      <td>0.0</td>\n",
              "      <td>0.0</td>\n",
              "      <td>1.0</td>\n",
              "      <td>1.0</td>\n",
              "      <td>0.0</td>\n",
              "      <td>1.960</td>\n",
              "      <td>3.091</td>\n",
              "      <td>4.382</td>\n",
              "      <td>3.0</td>\n",
              "      <td>0.0</td>\n",
              "    </tr>\n",
              "  </tbody>\n",
              "</table>\n",
              "</div>"
            ],
            "text/plain": [
              "   tenure   age  address  income   ed  ...  loglong  logtoll  lninc  custcat  churn\n",
              "0    11.0  33.0      7.0   136.0  5.0  ...    1.482    3.033  4.913      4.0    1.0\n",
              "1    33.0  33.0     12.0    33.0  2.0  ...    2.246    3.240  3.497      1.0    1.0\n",
              "2    23.0  30.0      9.0    30.0  1.0  ...    1.841    3.240  3.401      3.0    0.0\n",
              "3    38.0  35.0      5.0    76.0  2.0  ...    1.800    3.807  4.331      4.0    0.0\n",
              "4     7.0  35.0     14.0    80.0  2.0  ...    1.960    3.091  4.382      3.0    0.0\n",
              "\n",
              "[5 rows x 28 columns]"
            ]
          },
          "metadata": {
            "tags": []
          },
          "execution_count": 4
        }
      ]
    },
    {
      "cell_type": "markdown",
      "metadata": {
        "id": "GIjDsvDJHGlQ"
      },
      "source": [
        "## Data pre-processing and selection"
      ]
    },
    {
      "cell_type": "markdown",
      "metadata": {
        "id": "yYv3zmgAHGlQ"
      },
      "source": [
        "Lets select some features for the modeling. Also we **change the target data type to be integer**, as it is a requirement  by the skitlearn algorithm:"
      ]
    },
    {
      "cell_type": "code",
      "metadata": {
        "colab": {
          "base_uri": "https://localhost:8080/",
          "height": 203
        },
        "id": "s0AVQ4OoHGlR",
        "outputId": "94b553d0-736a-48f7-c6e1-3488d7a44506"
      },
      "source": [
        "# select the feature set (the predictors) and change the target data type to be integer (as this is required by sikit-learn)\n",
        "churn_df = churn_df[['tenure', 'age', 'address', 'income', 'ed', 'employ', 'equip',   'callcard', 'wireless','churn']]\n",
        "churn_df['churn'] = churn_df['churn'].astype('int')\n",
        "churn_df.head()"
      ],
      "execution_count": null,
      "outputs": [
        {
          "output_type": "execute_result",
          "data": {
            "text/html": [
              "<div>\n",
              "<style scoped>\n",
              "    .dataframe tbody tr th:only-of-type {\n",
              "        vertical-align: middle;\n",
              "    }\n",
              "\n",
              "    .dataframe tbody tr th {\n",
              "        vertical-align: top;\n",
              "    }\n",
              "\n",
              "    .dataframe thead th {\n",
              "        text-align: right;\n",
              "    }\n",
              "</style>\n",
              "<table border=\"1\" class=\"dataframe\">\n",
              "  <thead>\n",
              "    <tr style=\"text-align: right;\">\n",
              "      <th></th>\n",
              "      <th>tenure</th>\n",
              "      <th>age</th>\n",
              "      <th>address</th>\n",
              "      <th>income</th>\n",
              "      <th>ed</th>\n",
              "      <th>employ</th>\n",
              "      <th>equip</th>\n",
              "      <th>callcard</th>\n",
              "      <th>wireless</th>\n",
              "      <th>churn</th>\n",
              "    </tr>\n",
              "  </thead>\n",
              "  <tbody>\n",
              "    <tr>\n",
              "      <th>0</th>\n",
              "      <td>11.0</td>\n",
              "      <td>33.0</td>\n",
              "      <td>7.0</td>\n",
              "      <td>136.0</td>\n",
              "      <td>5.0</td>\n",
              "      <td>5.0</td>\n",
              "      <td>0.0</td>\n",
              "      <td>1.0</td>\n",
              "      <td>1.0</td>\n",
              "      <td>1</td>\n",
              "    </tr>\n",
              "    <tr>\n",
              "      <th>1</th>\n",
              "      <td>33.0</td>\n",
              "      <td>33.0</td>\n",
              "      <td>12.0</td>\n",
              "      <td>33.0</td>\n",
              "      <td>2.0</td>\n",
              "      <td>0.0</td>\n",
              "      <td>0.0</td>\n",
              "      <td>0.0</td>\n",
              "      <td>0.0</td>\n",
              "      <td>1</td>\n",
              "    </tr>\n",
              "    <tr>\n",
              "      <th>2</th>\n",
              "      <td>23.0</td>\n",
              "      <td>30.0</td>\n",
              "      <td>9.0</td>\n",
              "      <td>30.0</td>\n",
              "      <td>1.0</td>\n",
              "      <td>2.0</td>\n",
              "      <td>0.0</td>\n",
              "      <td>0.0</td>\n",
              "      <td>0.0</td>\n",
              "      <td>0</td>\n",
              "    </tr>\n",
              "    <tr>\n",
              "      <th>3</th>\n",
              "      <td>38.0</td>\n",
              "      <td>35.0</td>\n",
              "      <td>5.0</td>\n",
              "      <td>76.0</td>\n",
              "      <td>2.0</td>\n",
              "      <td>10.0</td>\n",
              "      <td>1.0</td>\n",
              "      <td>1.0</td>\n",
              "      <td>1.0</td>\n",
              "      <td>0</td>\n",
              "    </tr>\n",
              "    <tr>\n",
              "      <th>4</th>\n",
              "      <td>7.0</td>\n",
              "      <td>35.0</td>\n",
              "      <td>14.0</td>\n",
              "      <td>80.0</td>\n",
              "      <td>2.0</td>\n",
              "      <td>15.0</td>\n",
              "      <td>0.0</td>\n",
              "      <td>1.0</td>\n",
              "      <td>0.0</td>\n",
              "      <td>0</td>\n",
              "    </tr>\n",
              "  </tbody>\n",
              "</table>\n",
              "</div>"
            ],
            "text/plain": [
              "   tenure   age  address  income   ed  employ  equip  callcard  wireless  churn\n",
              "0    11.0  33.0      7.0   136.0  5.0     5.0    0.0       1.0       1.0      1\n",
              "1    33.0  33.0     12.0    33.0  2.0     0.0    0.0       0.0       0.0      1\n",
              "2    23.0  30.0      9.0    30.0  1.0     2.0    0.0       0.0       0.0      0\n",
              "3    38.0  35.0      5.0    76.0  2.0    10.0    1.0       1.0       1.0      0\n",
              "4     7.0  35.0     14.0    80.0  2.0    15.0    0.0       1.0       0.0      0"
            ]
          },
          "metadata": {
            "tags": []
          },
          "execution_count": 5
        }
      ]
    },
    {
      "cell_type": "code",
      "metadata": {
        "button": false,
        "new_sheet": false,
        "run_control": {
          "read_only": false
        },
        "colab": {
          "base_uri": "https://localhost:8080/"
        },
        "id": "Lu2BgLbTHGlS",
        "outputId": "b1471319-feef-4a58-91da-bd2d1cad2ee6"
      },
      "source": [
        "# check the dimensions of the dataframe\n",
        "churn_df.shape\n",
        "\n",
        "\n",
        "\n"
      ],
      "execution_count": null,
      "outputs": [
        {
          "output_type": "execute_result",
          "data": {
            "text/plain": [
              "(200, 10)"
            ]
          },
          "metadata": {
            "tags": []
          },
          "execution_count": 6
        }
      ]
    },
    {
      "cell_type": "code",
      "metadata": {
        "colab": {
          "base_uri": "https://localhost:8080/"
        },
        "id": "gsOZAhOqHGlS",
        "outputId": "894e9551-a1e9-4744-ba84-51e1c1a50c56"
      },
      "source": [
        "# define X (predictors) and y (target) for the dataset\n",
        "X = np.asarray(churn_df[['tenure', 'age', 'address', 'income', 'ed', 'employ', 'equip']])\n",
        "X[0:5]"
      ],
      "execution_count": null,
      "outputs": [
        {
          "output_type": "execute_result",
          "data": {
            "text/plain": [
              "array([[ 11.,  33.,   7., 136.,   5.,   5.,   0.],\n",
              "       [ 33.,  33.,  12.,  33.,   2.,   0.,   0.],\n",
              "       [ 23.,  30.,   9.,  30.,   1.,   2.,   0.],\n",
              "       [ 38.,  35.,   5.,  76.,   2.,  10.,   1.],\n",
              "       [  7.,  35.,  14.,  80.,   2.,  15.,   0.]])"
            ]
          },
          "metadata": {
            "tags": []
          },
          "execution_count": 7
        }
      ]
    },
    {
      "cell_type": "code",
      "metadata": {
        "colab": {
          "base_uri": "https://localhost:8080/"
        },
        "id": "u7OTE6n-HGlS",
        "outputId": "4b80355b-d3b5-46d5-9079-26665f6cd7dd"
      },
      "source": [
        "y = np.asarray(churn_df['churn'])\n",
        "y [0:5]"
      ],
      "execution_count": null,
      "outputs": [
        {
          "output_type": "execute_result",
          "data": {
            "text/plain": [
              "array([1, 1, 0, 0, 0])"
            ]
          },
          "metadata": {
            "tags": []
          },
          "execution_count": 8
        }
      ]
    },
    {
      "cell_type": "markdown",
      "metadata": {
        "id": "tJwKGvsBeUsO"
      },
      "source": [
        "**Using the raw data without normalization**, This means the customer with ==>\n",
        "\n",
        " ['tenure', 'age', 'address', 'income', 'ed', 'employ', 'equip'] of [ 11.,  33.,   7., 136.,   5.,   5.,   0.] in the first row of the array ==> has a churn value of 1 ==> He is in class 1\n",
        "\n",
        " ['tenure', 'age', 'address', 'income', 'ed', 'employ', 'equip'] of [ 23.,  30.,   9.,  30.,   1.,   2.,   0.] in the third row of the array ==> has a churn value of 0 ==> He is in class 0"
      ]
    },
    {
      "cell_type": "code",
      "metadata": {
        "colab": {
          "base_uri": "https://localhost:8080/"
        },
        "id": "IvHTGTGZHGlT",
        "outputId": "e4ae574f-95e3-4eaf-de65-c1d7a5f6351d"
      },
      "source": [
        "# normalize the dataset to be in the normal distribution\n",
        "from sklearn import preprocessing\n",
        "X = preprocessing.StandardScaler().fit(X).transform(X)\n",
        "X[0:5]"
      ],
      "execution_count": null,
      "outputs": [
        {
          "output_type": "execute_result",
          "data": {
            "text/plain": [
              "array([[-1.13518441, -0.62595491, -0.4588971 ,  0.4751423 ,  1.6961288 ,\n",
              "        -0.58477841, -0.85972695],\n",
              "       [-0.11604313, -0.62595491,  0.03454064, -0.32886061, -0.6433592 ,\n",
              "        -1.14437497, -0.85972695],\n",
              "       [-0.57928917, -0.85594447, -0.261522  , -0.35227817, -1.42318853,\n",
              "        -0.92053635, -0.85972695],\n",
              "       [ 0.11557989, -0.47262854, -0.65627219,  0.00679109, -0.6433592 ,\n",
              "        -0.02518185,  1.16316   ],\n",
              "       [-1.32048283, -0.47262854,  0.23191574,  0.03801451, -0.6433592 ,\n",
              "         0.53441472, -0.85972695]])"
            ]
          },
          "metadata": {
            "tags": []
          },
          "execution_count": 9
        }
      ]
    },
    {
      "cell_type": "code",
      "metadata": {
        "colab": {
          "base_uri": "https://localhost:8080/"
        },
        "id": "x-qzTyeZfYwn",
        "outputId": "f06eff5a-a2ff-4735-8a51-ce591375f411"
      },
      "source": [
        "y = np.asarray(churn_df['churn'])\n",
        "y [0:5]"
      ],
      "execution_count": null,
      "outputs": [
        {
          "output_type": "execute_result",
          "data": {
            "text/plain": [
              "array([1, 1, 0, 0, 0])"
            ]
          },
          "metadata": {
            "tags": []
          },
          "execution_count": 10
        }
      ]
    },
    {
      "cell_type": "markdown",
      "metadata": {
        "id": "hJ9IcbJOfape"
      },
      "source": [
        "**After normalization**, this means the customer with ==>\n",
        "\n",
        "['tenure', 'age', 'address', 'income', 'ed', 'employ', 'equip'] of [-1.13518441, -0.62595491, -0.4588971 ,  0.4751423 ,  1.6961288 , -0.58477841, -0.85972695] in the first row of the X array ==> has a churn value of 1 (in the y array) ==> He is in class 1\n",
        "\n",
        "['tenure', 'age', 'address', 'income', 'ed', 'employ', 'equip'] of [-0.57928917, -0.85594447, -0.261522  , -0.35227817, -1.42318853, -0.92053635, -0.85972695] in the third row of the X array ==> has a churn value of 0 (in the y array) ==> He is in class 0"
      ]
    },
    {
      "cell_type": "markdown",
      "metadata": {
        "id": "6qU000H1HGlT"
      },
      "source": [
        "## Train/Test dataset"
      ]
    },
    {
      "cell_type": "code",
      "metadata": {
        "colab": {
          "base_uri": "https://localhost:8080/"
        },
        "id": "cWo7EzCQHGlU",
        "outputId": "4af8162c-a9e0-44ad-a481-7d66ecd66495"
      },
      "source": [
        "# split our dataset into train and test set\n",
        "from sklearn.model_selection import train_test_split\n",
        "X_train, X_test, y_train, y_test = train_test_split( X, y, test_size=0.2, random_state=4)\n",
        "print ('Train set:', X_train.shape,  y_train.shape)\n",
        "print ('Test set:', X_test.shape,  y_test.shape)"
      ],
      "execution_count": null,
      "outputs": [
        {
          "output_type": "stream",
          "text": [
            "Train set: (160, 7) (160,)\n",
            "Test set: (40, 7) (40,)\n"
          ],
          "name": "stdout"
        }
      ]
    },
    {
      "cell_type": "markdown",
      "metadata": {
        "id": "F82oH2zbHGlU"
      },
      "source": [
        "# Modeling (Logistic Regression with Scikit-learn)"
      ]
    },
    {
      "cell_type": "code",
      "metadata": {
        "colab": {
          "base_uri": "https://localhost:8080/"
        },
        "id": "De8lAbICHGlU",
        "outputId": "0ab2ca14-bf8b-472f-f811-8a5d31d2a0f8"
      },
      "source": [
        "# create the model (using liblinear solver and inverse of regularization strength of 0.03) and fit it with the training set\n",
        "from sklearn.linear_model import LogisticRegression\n",
        "from sklearn.metrics import confusion_matrix\n",
        "logReg = LogisticRegression(C=0.01, solver='liblinear').fit(X_train,y_train)\n",
        "logReg"
      ],
      "execution_count": 35,
      "outputs": [
        {
          "output_type": "execute_result",
          "data": {
            "text/plain": [
              "LogisticRegression(C=0.01, class_weight=None, dual=False, fit_intercept=True,\n",
              "                   intercept_scaling=1, l1_ratio=None, max_iter=100,\n",
              "                   multi_class='auto', n_jobs=None, penalty='l2',\n",
              "                   random_state=None, solver='liblinear', tol=0.0001, verbose=0,\n",
              "                   warm_start=False)"
            ]
          },
          "metadata": {},
          "execution_count": 35
        }
      ]
    },
    {
      "cell_type": "markdown",
      "metadata": {
        "id": "M5IHVDroHGlV"
      },
      "source": [
        "Now we can predict using our test set:"
      ]
    },
    {
      "cell_type": "code",
      "metadata": {
        "colab": {
          "base_uri": "https://localhost:8080/"
        },
        "id": "kUviE3iBidcH",
        "outputId": "c6cf74e5-2692-4993-9626-1dcece1a5728"
      },
      "source": [
        "X_test[:9]"
      ],
      "execution_count": null,
      "outputs": [
        {
          "output_type": "execute_result",
          "data": {
            "text/plain": [
              "array([[ 0.53250132, -0.08931261,  0.42929083,  0.40488962,  0.91629947,\n",
              "         0.19865678,  1.16316   ],\n",
              "       [ 0.81044894, -0.62595491, -1.05102238, -0.11810256, -1.42318853,\n",
              "        -0.4728591 , -0.85972695],\n",
              "       [-0.25501694, -1.00927084, -1.05102238, -0.4303367 , -1.42318853,\n",
              "        -0.24902047, -0.85972695],\n",
              "       [ 0.76412434, -0.1659758 , -0.55758464,  0.34244279,  0.13647013,\n",
              "         0.87017266, -0.85972695],\n",
              "       [-0.11604313, -0.62595491,  0.03454064, -0.32886061, -0.6433592 ,\n",
              "        -1.14437497, -0.85972695],\n",
              "       [-1.41313204,  0.44732969, -0.4588971 , -0.22738451, -1.42318853,\n",
              "        -0.4728591 , -0.85972695],\n",
              "       [-0.48663996, -0.93260766, -0.261522  , -0.15713183,  0.91629947,\n",
              "        -1.03245566, -0.85972695],\n",
              "       [ 0.34720291, -0.93260766, -0.75495974, -0.32886061, -1.42318853,\n",
              "         0.31057609, -0.85972695],\n",
              "       [-1.41313204, -0.7026181 , -0.55758464, -0.32886061,  0.91629947,\n",
              "        -0.80861704,  1.16316   ]])"
            ]
          },
          "metadata": {
            "tags": []
          },
          "execution_count": 13
        }
      ]
    },
    {
      "cell_type": "code",
      "metadata": {
        "colab": {
          "base_uri": "https://localhost:8080/"
        },
        "id": "n7hXyuf4HGlV",
        "outputId": "bdf7d6ef-258c-4053-ab02-6562a345b7cb"
      },
      "source": [
        "yhat = logReg.predict(X_test)\n",
        "yhat[:9]"
      ],
      "execution_count": null,
      "outputs": [
        {
          "output_type": "execute_result",
          "data": {
            "text/plain": [
              "array([0, 0, 0, 0, 0, 0, 0, 0, 1])"
            ]
          },
          "metadata": {
            "tags": []
          },
          "execution_count": 14
        }
      ]
    },
    {
      "cell_type": "markdown",
      "metadata": {
        "id": "brJD5Fg5htwY"
      },
      "source": [
        "This means that the customer with  ==>\n",
        "\n",
        "['tenure', 'age', 'address', 'income', 'ed', 'employ', 'equip'] of the values shown in the first row of the test data array has been classified by the model to 0 (as shown in the yhat array) ==> has a churn value of 0 ==> He is in class 0\n",
        "\n",
        "['tenure', 'age', 'address', 'income', 'ed', 'employ', 'equip'] of the values shown in the last row of the test data array has been classified by the model to 1 (as shown in the yhat array) ==> has a churn value of 1 ==> he is in class 1"
      ]
    },
    {
      "cell_type": "code",
      "metadata": {
        "colab": {
          "base_uri": "https://localhost:8080/"
        },
        "id": "S6ABEN3mi1Qe",
        "outputId": "53b5540a-095e-4b32-bef3-8b65fc128601"
      },
      "source": [
        "# check the accuracy of the  for predicting the test data\n",
        "logReg.score(X_test, y_test)"
      ],
      "execution_count": null,
      "outputs": [
        {
          "output_type": "execute_result",
          "data": {
            "text/plain": [
              "0.75"
            ]
          },
          "metadata": {
            "tags": []
          },
          "execution_count": 15
        }
      ]
    },
    {
      "cell_type": "markdown",
      "metadata": {
        "id": "xeX3Yyt1jSFH"
      },
      "source": [
        "The accuracy of the model is 0.75 (the perfect accuracy is 1). this means the model requires enhancements."
      ]
    },
    {
      "cell_type": "markdown",
      "metadata": {
        "id": "p4kDi3YkHGlV"
      },
      "source": [
        "__predict_proba__  returns estimates for all classes, ordered by the label of classes. So, the first column is the probability of class 1, P(Y=1|X), and second column is probability of class 0, P(Y=0|X):"
      ]
    },
    {
      "cell_type": "code",
      "metadata": {
        "colab": {
          "base_uri": "https://localhost:8080/"
        },
        "id": "bD_3aPjmlY-e",
        "outputId": "c3cb8abe-ac7c-4b55-9460-056bf3b608e4"
      },
      "source": [
        "X_test[:5]"
      ],
      "execution_count": null,
      "outputs": [
        {
          "output_type": "execute_result",
          "data": {
            "text/plain": [
              "array([[ 0.53250132, -0.08931261,  0.42929083,  0.40488962,  0.91629947,\n",
              "         0.19865678,  1.16316   ],\n",
              "       [ 0.81044894, -0.62595491, -1.05102238, -0.11810256, -1.42318853,\n",
              "        -0.4728591 , -0.85972695],\n",
              "       [-0.25501694, -1.00927084, -1.05102238, -0.4303367 , -1.42318853,\n",
              "        -0.24902047, -0.85972695],\n",
              "       [ 0.76412434, -0.1659758 , -0.55758464,  0.34244279,  0.13647013,\n",
              "         0.87017266, -0.85972695],\n",
              "       [-0.11604313, -0.62595491,  0.03454064, -0.32886061, -0.6433592 ,\n",
              "        -1.14437497, -0.85972695]])"
            ]
          },
          "metadata": {
            "tags": []
          },
          "execution_count": 16
        }
      ]
    },
    {
      "cell_type": "code",
      "metadata": {
        "colab": {
          "base_uri": "https://localhost:8080/"
        },
        "id": "N_jfsUUWHGlW",
        "outputId": "ffb4a264-2613-446b-9ba2-b65b6f63035f"
      },
      "source": [
        "yhat_prob = logReg.predict_proba(X_test)\n",
        "yhat_prob[:5]"
      ],
      "execution_count": null,
      "outputs": [
        {
          "output_type": "execute_result",
          "data": {
            "text/plain": [
              "array([[0.54132919, 0.45867081],\n",
              "       [0.60593357, 0.39406643],\n",
              "       [0.56277713, 0.43722287],\n",
              "       [0.63432489, 0.36567511],\n",
              "       [0.56431839, 0.43568161]])"
            ]
          },
          "metadata": {
            "tags": []
          },
          "execution_count": 17
        }
      ]
    },
    {
      "cell_type": "markdown",
      "metadata": {
        "id": "vAlUcDIhlOtu"
      },
      "source": [
        "This means the propability of the customer in the first row of the X-test array equals the value of the first column (to be in class 1) & the value of the second column to be in class 0 (and not in class 1)"
      ]
    },
    {
      "cell_type": "markdown",
      "metadata": {
        "id": "n04bD2CjHGlW"
      },
      "source": [
        "## Evaluation"
      ]
    },
    {
      "cell_type": "code",
      "metadata": {
        "colab": {
          "base_uri": "https://localhost:8080/"
        },
        "id": "sWHCAD6gpK9n",
        "outputId": "333215b8-0673-485b-c8af-0f6ea752c33c"
      },
      "source": [
        "y_test"
      ],
      "execution_count": null,
      "outputs": [
        {
          "output_type": "execute_result",
          "data": {
            "text/plain": [
              "array([0, 0, 1, 0, 1, 1, 1, 0, 1, 1, 0, 0, 0, 1, 0, 0, 1, 1, 1, 1, 0, 0,\n",
              "       0, 0, 0, 0, 0, 0, 0, 0, 0, 0, 1, 0, 1, 0, 1, 1, 0, 0])"
            ]
          },
          "metadata": {
            "tags": []
          },
          "execution_count": 18
        }
      ]
    },
    {
      "cell_type": "markdown",
      "metadata": {
        "id": "gbEKyOyDpNfu"
      },
      "source": [
        "In our true real world data, We can see that we have a total of 40 cases: 15 cases who are class 1 (this is the data we have without any prediction - the truth) and 25 are class 0."
      ]
    },
    {
      "cell_type": "code",
      "metadata": {
        "colab": {
          "base_uri": "https://localhost:8080/"
        },
        "id": "OY5qnPmlpxj3",
        "outputId": "9f37f4bf-51d8-422e-d1e6-75eebc777478"
      },
      "source": [
        "yhat"
      ],
      "execution_count": null,
      "outputs": [
        {
          "output_type": "execute_result",
          "data": {
            "text/plain": [
              "array([0, 0, 0, 0, 0, 0, 0, 0, 1, 0, 0, 0, 1, 1, 0, 0, 0, 1, 1, 0, 0, 0,\n",
              "       0, 0, 0, 0, 0, 0, 0, 0, 0, 0, 1, 0, 0, 0, 1, 0, 0, 0])"
            ]
          },
          "metadata": {
            "tags": []
          },
          "execution_count": 19
        }
      ]
    },
    {
      "cell_type": "markdown",
      "metadata": {
        "id": "w9htoMgUp0bX"
      },
      "source": [
        "In our predicted data, We can see that we have a total of 40 cases: 4 cases were predicted as class 1 and 36 were predicted as class 0."
      ]
    },
    {
      "cell_type": "markdown",
      "metadata": {
        "id": "aHzgpqjDqcff"
      },
      "source": [
        "TO conclude, there is a difference between the truth and the model, let us check this using the below accuracy evaluation methods."
      ]
    },
    {
      "cell_type": "markdown",
      "metadata": {
        "id": "RBUdbrTMHGlY"
      },
      "source": [
        "#### jaccard index\n",
        "Lets try jaccard index for accuracy evaluation. we can define jaccard as the size of the intersection divided by the size of the union of two label sets. If the entire set of predicted labels for a sample strictly match with the true set of labels, then the subset accuracy is 1.0; otherwise it is 0.0.\n",
        "\n"
      ]
    },
    {
      "cell_type": "code",
      "metadata": {
        "colab": {
          "base_uri": "https://localhost:8080/"
        },
        "id": "F7mkNcXBHGlY",
        "outputId": "86f00072-6a35-4a97-bf8a-de978269f1d2"
      },
      "source": [
        "# try jaccard index for accuracy evaluation\n",
        "from sklearn.metrics import jaccard_score\n",
        "jaccard_score(y_test, yhat)"
      ],
      "execution_count": null,
      "outputs": [
        {
          "output_type": "stream",
          "text": [
            "/usr/local/lib/python3.7/dist-packages/sklearn/metrics/_classification.py:664: FutureWarning: jaccard_similarity_score has been deprecated and replaced with jaccard_score. It will be removed in version 0.23. This implementation has surprising behavior for binary and multiclass classification tasks.\n",
            "  FutureWarning)\n"
          ],
          "name": "stderr"
        },
        {
          "output_type": "execute_result",
          "data": {
            "text/plain": [
              "0.75"
            ]
          },
          "metadata": {
            "tags": []
          },
          "execution_count": 26
        }
      ]
    },
    {
      "cell_type": "markdown",
      "metadata": {
        "id": "TwIQj1z3S__6"
      },
      "source": [
        "We know before that the accuracy of the model is 0.75 (the perfect accuracy is 1). Here, we can see that the Jaccard index is the same value (the accuracy)"
      ]
    },
    {
      "cell_type": "markdown",
      "metadata": {
        "id": "_KU_S5fPHGlZ"
      },
      "source": [
        "### confusion matrix\n",
        "Another way of looking at accuracy of classifier is to look at __confusion matrix__."
      ]
    },
    {
      "cell_type": "code",
      "metadata": {
        "colab": {
          "base_uri": "https://localhost:8080/"
        },
        "id": "xP5k3OLeHGlZ",
        "outputId": "01335006-623b-406f-eeff-1cd973aba22a"
      },
      "source": [
        "# try the confusion matrix for accuracy evaluation\n",
        "from sklearn.metrics import classification_report, confusion_matrix\n",
        "import itertools\n",
        "def plot_confusion_matrix(cm, classes,\n",
        "                          normalize=False,\n",
        "                          title='Confusion matrix',\n",
        "                          cmap=plt.cm.Blues):\n",
        "    \"\"\"\n",
        "    This function prints and plots the confusion matrix.\n",
        "    Normalization can be applied by setting `normalize=True`.\n",
        "    \"\"\"\n",
        "    if normalize:\n",
        "        cm = cm.astype('float') / cm.sum(axis=1)[:, np.newaxis]\n",
        "        print(\"Normalized confusion matrix\")\n",
        "    else:\n",
        "        print('Confusion matrix, without normalization')\n",
        "\n",
        "    print(cm)\n",
        "\n",
        "    plt.imshow(cm, interpolation='nearest', cmap=cmap)\n",
        "    plt.title(title)\n",
        "    plt.colorbar()\n",
        "    tick_marks = np.arange(len(classes))\n",
        "    plt.xticks(tick_marks, classes, rotation=45)\n",
        "    plt.yticks(tick_marks, classes)\n",
        "\n",
        "    fmt = '.2f' if normalize else 'd'\n",
        "    thresh = cm.max() / 2.\n",
        "    for i, j in itertools.product(range(cm.shape[0]), range(cm.shape[1])):\n",
        "        plt.text(j, i, format(cm[i, j], fmt),\n",
        "                 horizontalalignment=\"center\",\n",
        "                 color=\"white\" if cm[i, j] > thresh else \"black\")\n",
        "\n",
        "    plt.tight_layout()\n",
        "    plt.ylabel('True label')\n",
        "    plt.xlabel('Predicted label')\n",
        "print(confusion_matrix(y_test, yhat, labels=[1,0]))"
      ],
      "execution_count": null,
      "outputs": [
        {
          "output_type": "stream",
          "text": [
            "[[ 6  9]\n",
            " [ 1 24]]\n"
          ],
          "name": "stdout"
        }
      ]
    },
    {
      "cell_type": "code",
      "metadata": {
        "colab": {
          "base_uri": "https://localhost:8080/",
          "height": 364
        },
        "id": "rikmnY4fHGlZ",
        "outputId": "44ddaafe-d519-4bfc-cc9b-f20461e5172f"
      },
      "source": [
        "# Compute confusion matrix\n",
        "cnf_matrix = confusion_matrix(y_test, yhat, labels=[1,0])\n",
        "np.set_printoptions(precision=2)\n",
        "\n",
        "\n",
        "# Plot non-normalized confusion matrix\n",
        "plt.figure()\n",
        "plot_confusion_matrix(cnf_matrix, classes=['churn=1','churn=0'],normalize= False,  title='Confusion matrix')"
      ],
      "execution_count": null,
      "outputs": [
        {
          "output_type": "stream",
          "text": [
            "Confusion matrix, without normalization\n",
            "[[ 6  9]\n",
            " [ 1 24]]\n"
          ],
          "name": "stdout"
        },
        {
          "output_type": "display_data",
          "data": {
            "image/png": "[encoded data removed]",
            "text/plain": [
              "<Figure size 432x288 with 2 Axes>"
            ]
          },
          "metadata": {
            "tags": [],
            "needs_background": "light"
          }
        }
      ]
    },
    {
      "cell_type": "markdown",
      "metadata": {
        "id": "ESCo8egKHGlZ"
      },
      "source": [
        "Look at first row. The first row is for customers whose actual churn value in test set is 1.\n",
        "As you can calculate, out of 40 customers, the churn value of 15 of them is 1. \n",
        "And out of these 15, the classifier correctly predicted 6 of them as 1, and 9 of them wrongly as 0. \n",
        "\n",
        "It means, for 6 customers, the actual churn value were 1 in test set, and classifier also correctly predicted those as 1. However, while the actual label of 9 customers were 1, the classifier predicted those as 0, which is not very good. We can consider it as error of the model for first row.\n",
        "\n",
        "What about the customers with churn value 0? Lets look at the second row.\n",
        "It looks like  there were 25 customers whom their churn value were 0. \n",
        "\n",
        "\n",
        "The classifier correctly predicted 24 of them as 0, and one of them wrongly as 1. So, it has done a good job in predicting the customers with churn value 0. \n",
        "\n",
        "A good thing about confusion matrix is that shows the model’s ability to correctly predict or separate the classes.  **In specific case of binary classifier, such as this example,  we can interpret these numbers as the count of true positives, false positives, true negatives, and false negatives.** ==> is this also valid in multiclass classification."
      ]
    },
    {
      "cell_type": "code",
      "metadata": {
        "colab": {
          "base_uri": "https://localhost:8080/"
        },
        "id": "QbNbBgf7HGlZ",
        "outputId": "f94b1675-78c5-40f2-ec39-e3f4c4e5ef5f"
      },
      "source": [
        "# print the classification report\n",
        "print (classification_report(y_test, yhat))\n"
      ],
      "execution_count": 29,
      "outputs": [
        {
          "output_type": "stream",
          "text": [
            "              precision    recall  f1-score   support\n",
            "\n",
            "           0       0.73      0.96      0.83        25\n",
            "           1       0.86      0.40      0.55        15\n",
            "\n",
            "    accuracy                           0.75        40\n",
            "   macro avg       0.79      0.68      0.69        40\n",
            "weighted avg       0.78      0.75      0.72        40\n",
            "\n"
          ],
          "name": "stdout"
        }
      ]
    },
    {
      "cell_type": "code",
      "metadata": {
        "colab": {
          "base_uri": "https://localhost:8080/"
        },
        "id": "SDzbhXwyaP-l",
        "outputId": "8446f438-a8e4-44e0-e880-c47bd6791ed1"
      },
      "source": [
        "# another way to create the confusion matrix\n",
        "\n",
        "from sklearn.metrics import confusion_matrix\n",
        "cm = confusion_matrix(y_test, yhat)\n",
        "cm\n",
        "\n"
      ],
      "execution_count": 30,
      "outputs": [
        {
          "output_type": "execute_result",
          "data": {
            "text/plain": [
              "array([[24,  1],\n",
              "       [ 9,  6]])"
            ]
          },
          "metadata": {},
          "execution_count": 30
        }
      ]
    },
    {
      "cell_type": "code",
      "metadata": {
        "colab": {
          "base_uri": "https://localhost:8080/",
          "height": 460
        },
        "id": "PnmXiAMAav88",
        "outputId": "d54dc5d1-4cf2-4d5e-a7bd-a929bd0a82e2"
      },
      "source": [
        "# show the confusion matrix\n",
        "\n",
        "import seaborn as sn\n",
        "plt.figure(figsize = (10,7))\n",
        "sn.heatmap(cm, annot=True)\n",
        "plt.xlabel('Predicted')\n",
        "plt.ylabel('Truth')"
      ],
      "execution_count": 31,
      "outputs": [
        {
          "output_type": "execute_result",
          "data": {
            "text/plain": [
              "Text(69.0, 0.5, 'Truth')"
            ]
          },
          "metadata": {},
          "execution_count": 31
        },
        {
          "output_type": "display_data",
          "data": {
            "image/png": "[encoded data removed]",
            "text/plain": [
              "<Figure size 720x504 with 2 Axes>"
            ]
          },
          "metadata": {
            "needs_background": "light"
          }
        }
      ]
    },
    {
      "cell_type": "markdown",
      "metadata": {
        "id": "99REPYpbHGla"
      },
      "source": [
        "### log loss\n",
        "Now, lets try __log loss__ for evaluation. In logistic regression, the output can be the probability of customer churn is yes (or equals to 1). This probability is a value between 0 and 1.\n",
        "**Log loss( Logarithmic loss) measures the performance of a classifier where the predicted output is a probability value between 0 and 1.**\n"
      ]
    },
    {
      "cell_type": "code",
      "metadata": {
        "colab": {
          "base_uri": "https://localhost:8080/"
        },
        "id": "mZSDVW5sHGla",
        "outputId": "e97b7f45-186b-45a7-c3b2-a83d6fdd5579"
      },
      "source": [
        "from sklearn.metrics import log_loss\n",
        "log_loss(y_test, yhat_prob)"
      ],
      "execution_count": null,
      "outputs": [
        {
          "output_type": "execute_result",
          "data": {
            "text/plain": [
              "0.6017092478101185"
            ]
          },
          "metadata": {
            "tags": []
          },
          "execution_count": 24
        }
      ]
    },
    {
      "cell_type": "code",
      "metadata": {
        "id": "zM8pgEH6HGla",
        "colab": {
          "base_uri": "https://localhost:8080/"
        },
        "outputId": "456580dd-624a-4187-b4a3-66982ae36565"
      },
      "source": [
        "#  build Logistic Regression model using different solver and regularization values\n",
        "logReg2 = LogisticRegression(C=0.03, solver='sag').fit(X_train,y_train)\n",
        "yhat_prob2 = logReg2.predict_proba(X_test)\n",
        "print (\"LogLoss: : %.2f\" % log_loss(y_test, yhat_prob2))\n",
        "\n"
      ],
      "execution_count": 34,
      "outputs": [
        {
          "output_type": "stream",
          "text": [
            "LogLoss: : 0.59\n"
          ],
          "name": "stdout"
        }
      ]
    }
  ]
}